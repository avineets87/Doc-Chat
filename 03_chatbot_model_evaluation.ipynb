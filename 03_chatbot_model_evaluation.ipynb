{
 "cells": [
  {
   "cell_type": "code",
   "execution_count": 1,
   "metadata": {},
   "outputs": [
    {
     "name": "stderr",
     "output_type": "stream",
     "text": [
      "[nltk_data] Downloading package punkt to\n",
      "[nltk_data]     /Users/avineetsharma/nltk_data...\n",
      "[nltk_data]   Package punkt is already up-to-date!\n"
     ]
    },
    {
     "data": {
      "text/plain": [
       "True"
      ]
     },
     "execution_count": 1,
     "metadata": {},
     "output_type": "execute_result"
    }
   ],
   "source": [
    "import nltk\n",
    "from nltk.translate.bleu_score import sentence_bleu, SmoothingFunction\n",
    "\n",
    "# Ensure you have the necessary nltk data\n",
    "nltk.download('punkt')\n"
   ]
  },
  {
   "cell_type": "code",
   "execution_count": 2,
   "metadata": {},
   "outputs": [
    {
     "data": {
      "text/plain": [
       "[{'query': 'What is machine learning?',\n",
       "  'expected': 'Machine learning is a field within AI that develops algorithms and models enabling computers to learn and make decisions without explicit programming. It allows machines to analyze data, identify patterns, and make informed decisions with minimal human intervention by training on vast datasets. ML is categorized into three types: Supervised Learning, where algorithms learn from labeled data to make predictions; Unsupervised Learning, where algorithms find patterns in unlabeled data for clustering and anomaly detection; and Reinforcement Learning, where models learn through rewards and penalties to optimize decision-making. Applications include image and speech recognition, NLP, recommendation systems, fraud detection, predictive analytics, and autonomous driving, making ML a key part of modern AI systems.',\n",
       "  'generated': 'Machine learning is a branch of artificial intelligence (AI) that enables computer systems to automatically learn and improve from experience without being explicitly programmed. It focuses on developing algorithms and models that can analyse data, identify patterns, and make predictions or decisions with minimal human intervention.\\n\\nIn machine learning, algorithms are trained using large datasets to recognise and interpret complex data inputs. These algorithms can be supervised, where the model learns from labelled data, or unsupervised, where it identifies patterns in unlabelled data. Reinforcement learning is another approach where the model learns through trial and error, receiving feedback in the form of rewards or penalties.\\n\\nThe goal of machine learning is to develop systems that can generalise from past data and make accurate predictions or decisions in new, unseen situations. This technology has various applications, including image and speech recognition, natural language processing, recommendation systems, autonomous driving, and predictive analytics.'},\n",
       " {'query': 'What is logistic regression?',\n",
       "  'expected': 'Logistic regression is a statistical method used to predict binary outcomes, such as the probability of an event occurring or a category that a data point belongs to. It employs a sigmoid function to convert continuous data into a probability, enabling predictions about binary events or classifications.',\n",
       "  'generated': 'Logistic regression is a statistical method used to predict binary outcomes, such as whether a borrower is likely to be a \"good credit\" risk or not. It employs a sigmoid function to convert continuous data, like a borrower\\'s payment history, into a probability value between 0 and 1. This function ensures that the predicted probability falls within a reasonable range, making it suitable for binary classification tasks.\\n\\nThe provided knowledge also mentions that a comprehensive logistic regression model should consider multiple factors beyond just payment history to enhance the accuracy of its predictions.'},\n",
       " {'query': 'What is a neural network?',\n",
       "  'expected': 'A neural network is an advanced machine learning model inspired by the human brain, consisting of interconnected artificial neurons organized into input, hidden, and output layers. These networks excel at processing complex, large-scale datasets and are widely used by companies like Google, Facebook, Twitter, and Amazon for various applications. They learn by adjusting connection weights and biases through backpropagation, an iterative process that minimizes prediction errors, enhancing their accuracy and performance over time.',\n",
       "  'generated': \"A neural network is a sophisticated machine learning technique inspired by the human brain's structure and functionality. It consists of multiple layers of nodes, each performing individual computations, similar to how biological neurons work in the brain. These networks are designed to process complex datasets and are widely used by industry leaders like Google, Facebook, Twitter, and Amazon for advanced data analysis.\\n\\nIn essence, a neural network is a set of algorithms that mimic the behaviour of the brain's neurons, allowing machines to learn and make intelligent decisions based on input data.\"}]"
      ]
     },
     "execution_count": 2,
     "metadata": {},
     "output_type": "execute_result"
    }
   ],
   "source": [
    "import json\n",
    "\n",
    "with open('test_cases.json', 'r') as file:\n",
    "    test_cases = json.load(file)\n",
    "\n",
    "test_cases\n"
   ]
  },
  {
   "cell_type": "code",
   "execution_count": 3,
   "metadata": {},
   "outputs": [],
   "source": [
    "\n",
    "def calculate_bleu(reference, hypothesis):\n",
    "    \"\"\"\n",
    "    Compute the BLEU score between reference and hypothesis texts.\n",
    "    Uses smoothing to handle short sentences.\n",
    "    \"\"\"\n",
    "    reference_tokens = [nltk.word_tokenize(reference.lower())]  # Convert to list of lists\n",
    "    hypothesis_tokens = nltk.word_tokenize(hypothesis.lower())\n",
    "\n",
    "    # Smoothing function to avoid zero scores for short responses\n",
    "    smoothie = SmoothingFunction().method1\n",
    "\n",
    "    bleu_score = sentence_bleu(reference_tokens, hypothesis_tokens, smoothing_function=smoothie)\n",
    "    return round(bleu_score, 4)\n"
   ]
  },
  {
   "cell_type": "code",
   "execution_count": 4,
   "metadata": {},
   "outputs": [
    {
     "name": "stdout",
     "output_type": "stream",
     "text": [
      "Query: What is machine learning?\n",
      "Expected: Machine learning is a field within AI that develops algorithms and models enabling computers to learn and make decisions without explicit programming. It allows machines to analyze data, identify patterns, and make informed decisions with minimal human intervention by training on vast datasets. ML is categorized into three types: Supervised Learning, where algorithms learn from labeled data to make predictions; Unsupervised Learning, where algorithms find patterns in unlabeled data for clustering and anomaly detection; and Reinforcement Learning, where models learn through rewards and penalties to optimize decision-making. Applications include image and speech recognition, NLP, recommendation systems, fraud detection, predictive analytics, and autonomous driving, making ML a key part of modern AI systems.\n",
      "Generated: Machine learning is a branch of artificial intelligence (AI) that enables computer systems to automatically learn and improve from experience without being explicitly programmed. It focuses on developing algorithms and models that can analyse data, identify patterns, and make predictions or decisions with minimal human intervention.\n",
      "\n",
      "In machine learning, algorithms are trained using large datasets to recognise and interpret complex data inputs. These algorithms can be supervised, where the model learns from labelled data, or unsupervised, where it identifies patterns in unlabelled data. Reinforcement learning is another approach where the model learns through trial and error, receiving feedback in the form of rewards or penalties.\n",
      "\n",
      "The goal of machine learning is to develop systems that can generalise from past data and make accurate predictions or decisions in new, unseen situations. This technology has various applications, including image and speech recognition, natural language processing, recommendation systems, autonomous driving, and predictive analytics.\n",
      "BLEU Score: 0.1555\n",
      "\n",
      "Query: What is logistic regression?\n",
      "Expected: Logistic regression is a statistical method used to predict binary outcomes, such as the probability of an event occurring or a category that a data point belongs to. It employs a sigmoid function to convert continuous data into a probability, enabling predictions about binary events or classifications.\n",
      "Generated: Logistic regression is a statistical method used to predict binary outcomes, such as whether a borrower is likely to be a \"good credit\" risk or not. It employs a sigmoid function to convert continuous data, like a borrower's payment history, into a probability value between 0 and 1. This function ensures that the predicted probability falls within a reasonable range, making it suitable for binary classification tasks.\n",
      "\n",
      "The provided knowledge also mentions that a comprehensive logistic regression model should consider multiple factors beyond just payment history to enhance the accuracy of its predictions.\n",
      "BLEU Score: 0.2428\n",
      "\n",
      "Query: What is a neural network?\n",
      "Expected: A neural network is an advanced machine learning model inspired by the human brain, consisting of interconnected artificial neurons organized into input, hidden, and output layers. These networks excel at processing complex, large-scale datasets and are widely used by companies like Google, Facebook, Twitter, and Amazon for various applications. They learn by adjusting connection weights and biases through backpropagation, an iterative process that minimizes prediction errors, enhancing their accuracy and performance over time.\n",
      "Generated: A neural network is a sophisticated machine learning technique inspired by the human brain's structure and functionality. It consists of multiple layers of nodes, each performing individual computations, similar to how biological neurons work in the brain. These networks are designed to process complex datasets and are widely used by industry leaders like Google, Facebook, Twitter, and Amazon for advanced data analysis.\n",
      "\n",
      "In essence, a neural network is a set of algorithms that mimic the behaviour of the brain's neurons, allowing machines to learn and make intelligent decisions based on input data.\n",
      "BLEU Score: 0.219\n",
      "\n"
     ]
    }
   ],
   "source": [
    "\n",
    "# Evaluate BLEU scores for test cases\n",
    "for case in test_cases:\n",
    "    score = calculate_bleu(case[\"expected\"], case[\"generated\"])\n",
    "    print(f\"Query: {case['query']}\")\n",
    "    print(f\"Expected: {case['expected']}\")\n",
    "    print(f\"Generated: {case['generated']}\")\n",
    "    print(f\"BLEU Score: {score}\\n\")\n"
   ]
  }
 ],
 "metadata": {
  "kernelspec": {
   "display_name": "dev",
   "language": "python",
   "name": "python3"
  },
  "language_info": {
   "codemirror_mode": {
    "name": "ipython",
    "version": 3
   },
   "file_extension": ".py",
   "mimetype": "text/x-python",
   "name": "python",
   "nbconvert_exporter": "python",
   "pygments_lexer": "ipython3",
   "version": "3.9.15"
  }
 },
 "nbformat": 4,
 "nbformat_minor": 2
}
