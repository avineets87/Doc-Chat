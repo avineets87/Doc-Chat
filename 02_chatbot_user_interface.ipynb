{
  "cells": [
    {
      "cell_type": "code",
      "execution_count": 1,
      "metadata": {
        "colab": {
          "base_uri": "https://localhost:8080/"
        },
        "id": "_oSd22v40nUD",
        "outputId": "11677353-7bfc-4dea-c380-969848dc0c6c"
      },
      "outputs": [
        {
          "name": "stdout",
          "output_type": "stream",
          "text": [
            "Requirement already satisfied: langchain_community in /opt/anaconda3/envs/dev/lib/python3.9/site-packages (0.3.18)\n",
            "Requirement already satisfied: langchain_text_splitters in /opt/anaconda3/envs/dev/lib/python3.9/site-packages (0.3.6)\n",
            "Requirement already satisfied: langchain_openai in /opt/anaconda3/envs/dev/lib/python3.9/site-packages (0.3.7)\n",
            "Requirement already satisfied: langchain_chroma in /opt/anaconda3/envs/dev/lib/python3.9/site-packages (0.2.2)\n",
            "Requirement already satisfied: gradio in /opt/anaconda3/envs/dev/lib/python3.9/site-packages (4.44.1)\n",
            "Requirement already satisfied: python-dotenv in /opt/anaconda3/envs/dev/lib/python3.9/site-packages (0.21.0)\n",
            "Requirement already satisfied: langchain-core<1.0.0,>=0.3.37 in /opt/anaconda3/envs/dev/lib/python3.9/site-packages (from langchain_community) (0.3.39)\n",
            "Requirement already satisfied: langchain<1.0.0,>=0.3.19 in /opt/anaconda3/envs/dev/lib/python3.9/site-packages (from langchain_community) (0.3.19)\n",
            "Requirement already satisfied: SQLAlchemy<3,>=1.4 in /opt/anaconda3/envs/dev/lib/python3.9/site-packages (from langchain_community) (2.0.38)\n",
            "Requirement already satisfied: requests<3,>=2 in /opt/anaconda3/envs/dev/lib/python3.9/site-packages (from langchain_community) (2.32.3)\n",
            "Requirement already satisfied: PyYAML>=5.3 in /opt/anaconda3/envs/dev/lib/python3.9/site-packages (from langchain_community) (6.0.2)\n",
            "Requirement already satisfied: aiohttp<4.0.0,>=3.8.3 in /opt/anaconda3/envs/dev/lib/python3.9/site-packages (from langchain_community) (3.11.10)\n",
            "Requirement already satisfied: tenacity!=8.4.0,<10,>=8.1.0 in /opt/anaconda3/envs/dev/lib/python3.9/site-packages (from langchain_community) (9.0.0)\n",
            "Requirement already satisfied: dataclasses-json<0.7,>=0.5.7 in /opt/anaconda3/envs/dev/lib/python3.9/site-packages (from langchain_community) (0.6.7)\n",
            "Requirement already satisfied: pydantic-settings<3.0.0,>=2.4.0 in /opt/anaconda3/envs/dev/lib/python3.9/site-packages (from langchain_community) (2.8.0)\n",
            "Requirement already satisfied: langsmith<0.4,>=0.1.125 in /opt/anaconda3/envs/dev/lib/python3.9/site-packages (from langchain_community) (0.3.10)\n",
            "Requirement already satisfied: httpx-sse<1.0.0,>=0.4.0 in /opt/anaconda3/envs/dev/lib/python3.9/site-packages (from langchain_community) (0.4.0)\n",
            "Requirement already satisfied: numpy<2,>=1.26.4 in /opt/anaconda3/envs/dev/lib/python3.9/site-packages (from langchain_community) (1.26.4)\n",
            "Requirement already satisfied: openai<2.0.0,>=1.58.1 in /opt/anaconda3/envs/dev/lib/python3.9/site-packages (from langchain_openai) (1.65.3)\n",
            "Requirement already satisfied: tiktoken<1,>=0.7 in /opt/anaconda3/envs/dev/lib/python3.9/site-packages (from langchain_openai) (0.9.0)\n",
            "Requirement already satisfied: chromadb!=0.5.10,!=0.5.11,!=0.5.12,!=0.5.4,!=0.5.5,!=0.5.7,!=0.5.9,<0.7.0,>=0.4.0 in /opt/anaconda3/envs/dev/lib/python3.9/site-packages (from langchain_chroma) (0.6.3)\n",
            "Requirement already satisfied: aiofiles<24.0,>=22.0 in /opt/anaconda3/envs/dev/lib/python3.9/site-packages (from gradio) (23.2.1)\n",
            "Requirement already satisfied: anyio<5.0,>=3.0 in /opt/anaconda3/envs/dev/lib/python3.9/site-packages (from gradio) (4.8.0)\n",
            "Requirement already satisfied: fastapi<1.0 in /opt/anaconda3/envs/dev/lib/python3.9/site-packages (from gradio) (0.115.8)\n",
            "Requirement already satisfied: ffmpy in /opt/anaconda3/envs/dev/lib/python3.9/site-packages (from gradio) (0.5.0)\n",
            "Requirement already satisfied: gradio-client==1.3.0 in /opt/anaconda3/envs/dev/lib/python3.9/site-packages (from gradio) (1.3.0)\n",
            "Requirement already satisfied: httpx>=0.24.1 in /opt/anaconda3/envs/dev/lib/python3.9/site-packages (from gradio) (0.28.1)\n",
            "Requirement already satisfied: huggingface-hub>=0.19.3 in /opt/anaconda3/envs/dev/lib/python3.9/site-packages (from gradio) (0.28.0)\n",
            "Requirement already satisfied: importlib-resources<7.0,>=1.3 in /opt/anaconda3/envs/dev/lib/python3.9/site-packages (from gradio) (6.4.0)\n",
            "Requirement already satisfied: jinja2<4.0 in /opt/anaconda3/envs/dev/lib/python3.9/site-packages (from gradio) (3.1.5)\n",
            "Requirement already satisfied: markupsafe~=2.0 in /opt/anaconda3/envs/dev/lib/python3.9/site-packages (from gradio) (2.1.3)\n",
            "Requirement already satisfied: matplotlib~=3.0 in /opt/anaconda3/envs/dev/lib/python3.9/site-packages (from gradio) (3.9.2)\n",
            "Requirement already satisfied: orjson~=3.0 in /opt/anaconda3/envs/dev/lib/python3.9/site-packages (from gradio) (3.10.15)\n",
            "Requirement already satisfied: packaging in /opt/anaconda3/envs/dev/lib/python3.9/site-packages (from gradio) (24.2)\n",
            "Requirement already satisfied: pandas<3.0,>=1.0 in /opt/anaconda3/envs/dev/lib/python3.9/site-packages (from gradio) (2.2.3)\n",
            "Requirement already satisfied: pillow<11.0,>=8.0 in /opt/anaconda3/envs/dev/lib/python3.9/site-packages (from gradio) (10.4.0)\n",
            "Requirement already satisfied: pydantic>=2.0 in /opt/anaconda3/envs/dev/lib/python3.9/site-packages (from gradio) (2.10.3)\n",
            "Requirement already satisfied: pydub in /opt/anaconda3/envs/dev/lib/python3.9/site-packages (from gradio) (0.25.1)\n",
            "Requirement already satisfied: python-multipart>=0.0.9 in /opt/anaconda3/envs/dev/lib/python3.9/site-packages (from gradio) (0.0.20)\n",
            "Requirement already satisfied: ruff>=0.2.2 in /opt/anaconda3/envs/dev/lib/python3.9/site-packages (from gradio) (0.9.7)\n",
            "Requirement already satisfied: semantic-version~=2.0 in /opt/anaconda3/envs/dev/lib/python3.9/site-packages (from gradio) (2.10.0)\n",
            "Requirement already satisfied: tomlkit==0.12.0 in /opt/anaconda3/envs/dev/lib/python3.9/site-packages (from gradio) (0.12.0)\n",
            "Requirement already satisfied: typer<1.0,>=0.12 in /opt/anaconda3/envs/dev/lib/python3.9/site-packages (from gradio) (0.15.1)\n",
            "Requirement already satisfied: typing-extensions~=4.0 in /opt/anaconda3/envs/dev/lib/python3.9/site-packages (from gradio) (4.12.2)\n",
            "Requirement already satisfied: urllib3~=2.0 in /opt/anaconda3/envs/dev/lib/python3.9/site-packages (from gradio) (2.3.0)\n",
            "Requirement already satisfied: uvicorn>=0.14.0 in /opt/anaconda3/envs/dev/lib/python3.9/site-packages (from gradio) (0.34.0)\n",
            "Requirement already satisfied: fsspec in /opt/anaconda3/envs/dev/lib/python3.9/site-packages (from gradio-client==1.3.0->gradio) (2024.12.0)\n",
            "Requirement already satisfied: websockets<13.0,>=10.0 in /opt/anaconda3/envs/dev/lib/python3.9/site-packages (from gradio-client==1.3.0->gradio) (12.0)\n",
            "Requirement already satisfied: aiohappyeyeballs>=2.3.0 in /opt/anaconda3/envs/dev/lib/python3.9/site-packages (from aiohttp<4.0.0,>=3.8.3->langchain_community) (2.4.4)\n",
            "Requirement already satisfied: aiosignal>=1.1.2 in /opt/anaconda3/envs/dev/lib/python3.9/site-packages (from aiohttp<4.0.0,>=3.8.3->langchain_community) (1.2.0)\n",
            "Requirement already satisfied: attrs>=17.3.0 in /opt/anaconda3/envs/dev/lib/python3.9/site-packages (from aiohttp<4.0.0,>=3.8.3->langchain_community) (24.3.0)\n",
            "Requirement already satisfied: frozenlist>=1.1.1 in /opt/anaconda3/envs/dev/lib/python3.9/site-packages (from aiohttp<4.0.0,>=3.8.3->langchain_community) (1.5.0)\n",
            "Requirement already satisfied: multidict<7.0,>=4.5 in /opt/anaconda3/envs/dev/lib/python3.9/site-packages (from aiohttp<4.0.0,>=3.8.3->langchain_community) (6.1.0)\n",
            "Requirement already satisfied: propcache>=0.2.0 in /opt/anaconda3/envs/dev/lib/python3.9/site-packages (from aiohttp<4.0.0,>=3.8.3->langchain_community) (0.2.0)\n",
            "Requirement already satisfied: yarl<2.0,>=1.17.0 in /opt/anaconda3/envs/dev/lib/python3.9/site-packages (from aiohttp<4.0.0,>=3.8.3->langchain_community) (1.18.0)\n",
            "Requirement already satisfied: async-timeout<6.0,>=4.0 in /opt/anaconda3/envs/dev/lib/python3.9/site-packages (from aiohttp<4.0.0,>=3.8.3->langchain_community) (4.0.3)\n",
            "Requirement already satisfied: exceptiongroup>=1.0.2 in /opt/anaconda3/envs/dev/lib/python3.9/site-packages (from anyio<5.0,>=3.0->gradio) (1.2.2)\n",
            "Requirement already satisfied: idna>=2.8 in /opt/anaconda3/envs/dev/lib/python3.9/site-packages (from anyio<5.0,>=3.0->gradio) (3.7)\n",
            "Requirement already satisfied: sniffio>=1.1 in /opt/anaconda3/envs/dev/lib/python3.9/site-packages (from anyio<5.0,>=3.0->gradio) (1.3.1)\n",
            "Requirement already satisfied: build>=1.0.3 in /opt/anaconda3/envs/dev/lib/python3.9/site-packages (from chromadb!=0.5.10,!=0.5.11,!=0.5.12,!=0.5.4,!=0.5.5,!=0.5.7,!=0.5.9,<0.7.0,>=0.4.0->langchain_chroma) (1.2.2.post1)\n",
            "Requirement already satisfied: chroma-hnswlib==0.7.6 in /opt/anaconda3/envs/dev/lib/python3.9/site-packages (from chromadb!=0.5.10,!=0.5.11,!=0.5.12,!=0.5.4,!=0.5.5,!=0.5.7,!=0.5.9,<0.7.0,>=0.4.0->langchain_chroma) (0.7.6)\n",
            "Requirement already satisfied: posthog>=2.4.0 in /opt/anaconda3/envs/dev/lib/python3.9/site-packages (from chromadb!=0.5.10,!=0.5.11,!=0.5.12,!=0.5.4,!=0.5.5,!=0.5.7,!=0.5.9,<0.7.0,>=0.4.0->langchain_chroma) (3.18.1)\n",
            "Requirement already satisfied: onnxruntime>=1.14.1 in /opt/anaconda3/envs/dev/lib/python3.9/site-packages (from chromadb!=0.5.10,!=0.5.11,!=0.5.12,!=0.5.4,!=0.5.5,!=0.5.7,!=0.5.9,<0.7.0,>=0.4.0->langchain_chroma) (1.19.2)\n",
            "Requirement already satisfied: opentelemetry-api>=1.2.0 in /opt/anaconda3/envs/dev/lib/python3.9/site-packages (from chromadb!=0.5.10,!=0.5.11,!=0.5.12,!=0.5.4,!=0.5.5,!=0.5.7,!=0.5.9,<0.7.0,>=0.4.0->langchain_chroma) (1.30.0)\n",
            "Requirement already satisfied: opentelemetry-exporter-otlp-proto-grpc>=1.2.0 in /opt/anaconda3/envs/dev/lib/python3.9/site-packages (from chromadb!=0.5.10,!=0.5.11,!=0.5.12,!=0.5.4,!=0.5.5,!=0.5.7,!=0.5.9,<0.7.0,>=0.4.0->langchain_chroma) (1.30.0)\n",
            "Requirement already satisfied: opentelemetry-instrumentation-fastapi>=0.41b0 in /opt/anaconda3/envs/dev/lib/python3.9/site-packages (from chromadb!=0.5.10,!=0.5.11,!=0.5.12,!=0.5.4,!=0.5.5,!=0.5.7,!=0.5.9,<0.7.0,>=0.4.0->langchain_chroma) (0.51b0)\n",
            "Requirement already satisfied: opentelemetry-sdk>=1.2.0 in /opt/anaconda3/envs/dev/lib/python3.9/site-packages (from chromadb!=0.5.10,!=0.5.11,!=0.5.12,!=0.5.4,!=0.5.5,!=0.5.7,!=0.5.9,<0.7.0,>=0.4.0->langchain_chroma) (1.30.0)\n",
            "Requirement already satisfied: tokenizers>=0.13.2 in /opt/anaconda3/envs/dev/lib/python3.9/site-packages (from chromadb!=0.5.10,!=0.5.11,!=0.5.12,!=0.5.4,!=0.5.5,!=0.5.7,!=0.5.9,<0.7.0,>=0.4.0->langchain_chroma) (0.20.1)\n",
            "Requirement already satisfied: pypika>=0.48.9 in /opt/anaconda3/envs/dev/lib/python3.9/site-packages (from chromadb!=0.5.10,!=0.5.11,!=0.5.12,!=0.5.4,!=0.5.5,!=0.5.7,!=0.5.9,<0.7.0,>=0.4.0->langchain_chroma) (0.48.9)\n",
            "Requirement already satisfied: tqdm>=4.65.0 in /opt/anaconda3/envs/dev/lib/python3.9/site-packages (from chromadb!=0.5.10,!=0.5.11,!=0.5.12,!=0.5.4,!=0.5.5,!=0.5.7,!=0.5.9,<0.7.0,>=0.4.0->langchain_chroma) (4.66.5)\n",
            "Requirement already satisfied: overrides>=7.3.1 in /opt/anaconda3/envs/dev/lib/python3.9/site-packages (from chromadb!=0.5.10,!=0.5.11,!=0.5.12,!=0.5.4,!=0.5.5,!=0.5.7,!=0.5.9,<0.7.0,>=0.4.0->langchain_chroma) (7.7.0)\n",
            "Requirement already satisfied: grpcio>=1.58.0 in /opt/anaconda3/envs/dev/lib/python3.9/site-packages (from chromadb!=0.5.10,!=0.5.11,!=0.5.12,!=0.5.4,!=0.5.5,!=0.5.7,!=0.5.9,<0.7.0,>=0.4.0->langchain_chroma) (1.71.0rc2)\n",
            "Requirement already satisfied: bcrypt>=4.0.1 in /opt/anaconda3/envs/dev/lib/python3.9/site-packages (from chromadb!=0.5.10,!=0.5.11,!=0.5.12,!=0.5.4,!=0.5.5,!=0.5.7,!=0.5.9,<0.7.0,>=0.4.0->langchain_chroma) (4.3.0)\n",
            "Requirement already satisfied: kubernetes>=28.1.0 in /opt/anaconda3/envs/dev/lib/python3.9/site-packages (from chromadb!=0.5.10,!=0.5.11,!=0.5.12,!=0.5.4,!=0.5.5,!=0.5.7,!=0.5.9,<0.7.0,>=0.4.0->langchain_chroma) (32.0.1)\n",
            "Requirement already satisfied: mmh3>=4.0.1 in /opt/anaconda3/envs/dev/lib/python3.9/site-packages (from chromadb!=0.5.10,!=0.5.11,!=0.5.12,!=0.5.4,!=0.5.5,!=0.5.7,!=0.5.9,<0.7.0,>=0.4.0->langchain_chroma) (5.1.0)\n",
            "Requirement already satisfied: rich>=10.11.0 in /opt/anaconda3/envs/dev/lib/python3.9/site-packages (from chromadb!=0.5.10,!=0.5.11,!=0.5.12,!=0.5.4,!=0.5.5,!=0.5.7,!=0.5.9,<0.7.0,>=0.4.0->langchain_chroma) (13.9.4)\n",
            "Requirement already satisfied: marshmallow<4.0.0,>=3.18.0 in /opt/anaconda3/envs/dev/lib/python3.9/site-packages (from dataclasses-json<0.7,>=0.5.7->langchain_community) (3.26.1)\n",
            "Requirement already satisfied: typing-inspect<1,>=0.4.0 in /opt/anaconda3/envs/dev/lib/python3.9/site-packages (from dataclasses-json<0.7,>=0.5.7->langchain_community) (0.9.0)\n",
            "Requirement already satisfied: starlette<0.46.0,>=0.40.0 in /opt/anaconda3/envs/dev/lib/python3.9/site-packages (from fastapi<1.0->gradio) (0.45.3)\n",
            "Requirement already satisfied: certifi in /opt/anaconda3/envs/dev/lib/python3.9/site-packages (from httpx>=0.24.1->gradio) (2025.1.31)\n",
            "Requirement already satisfied: httpcore==1.* in /opt/anaconda3/envs/dev/lib/python3.9/site-packages (from httpx>=0.24.1->gradio) (1.0.7)\n",
            "Requirement already satisfied: h11<0.15,>=0.13 in /opt/anaconda3/envs/dev/lib/python3.9/site-packages (from httpcore==1.*->httpx>=0.24.1->gradio) (0.14.0)\n",
            "Requirement already satisfied: filelock in /opt/anaconda3/envs/dev/lib/python3.9/site-packages (from huggingface-hub>=0.19.3->gradio) (3.13.1)\n",
            "Requirement already satisfied: zipp>=3.1.0 in /opt/anaconda3/envs/dev/lib/python3.9/site-packages (from importlib-resources<7.0,>=1.3->gradio) (3.21.0)\n",
            "Requirement already satisfied: jsonpatch<2.0,>=1.33 in /opt/anaconda3/envs/dev/lib/python3.9/site-packages (from langchain-core<1.0.0,>=0.3.37->langchain_community) (1.33)\n",
            "Requirement already satisfied: requests-toolbelt<2.0.0,>=1.0.0 in /opt/anaconda3/envs/dev/lib/python3.9/site-packages (from langsmith<0.4,>=0.1.125->langchain_community) (1.0.0)\n",
            "Requirement already satisfied: zstandard<0.24.0,>=0.23.0 in /opt/anaconda3/envs/dev/lib/python3.9/site-packages (from langsmith<0.4,>=0.1.125->langchain_community) (0.23.0)\n",
            "Requirement already satisfied: contourpy>=1.0.1 in /opt/anaconda3/envs/dev/lib/python3.9/site-packages (from matplotlib~=3.0->gradio) (1.2.0)\n",
            "Requirement already satisfied: cycler>=0.10 in /opt/anaconda3/envs/dev/lib/python3.9/site-packages (from matplotlib~=3.0->gradio) (0.11.0)\n",
            "Requirement already satisfied: fonttools>=4.22.0 in /opt/anaconda3/envs/dev/lib/python3.9/site-packages (from matplotlib~=3.0->gradio) (4.55.3)\n",
            "Requirement already satisfied: kiwisolver>=1.3.1 in /opt/anaconda3/envs/dev/lib/python3.9/site-packages (from matplotlib~=3.0->gradio) (1.4.4)\n",
            "Requirement already satisfied: pyparsing>=2.3.1 in /opt/anaconda3/envs/dev/lib/python3.9/site-packages (from matplotlib~=3.0->gradio) (3.2.0)\n",
            "Requirement already satisfied: python-dateutil>=2.7 in /opt/anaconda3/envs/dev/lib/python3.9/site-packages (from matplotlib~=3.0->gradio) (2.9.0.post0)\n",
            "Requirement already satisfied: distro<2,>=1.7.0 in /opt/anaconda3/envs/dev/lib/python3.9/site-packages (from openai<2.0.0,>=1.58.1->langchain_openai) (1.9.0)\n",
            "Requirement already satisfied: jiter<1,>=0.4.0 in /opt/anaconda3/envs/dev/lib/python3.9/site-packages (from openai<2.0.0,>=1.58.1->langchain_openai) (0.8.2)\n",
            "Requirement already satisfied: pytz>=2020.1 in /opt/anaconda3/envs/dev/lib/python3.9/site-packages (from pandas<3.0,>=1.0->gradio) (2024.1)\n",
            "Requirement already satisfied: tzdata>=2022.7 in /opt/anaconda3/envs/dev/lib/python3.9/site-packages (from pandas<3.0,>=1.0->gradio) (2023.3)\n",
            "Requirement already satisfied: annotated-types>=0.6.0 in /opt/anaconda3/envs/dev/lib/python3.9/site-packages (from pydantic>=2.0->gradio) (0.6.0)\n",
            "Requirement already satisfied: pydantic-core==2.27.1 in /opt/anaconda3/envs/dev/lib/python3.9/site-packages (from pydantic>=2.0->gradio) (2.27.1)\n",
            "Requirement already satisfied: charset-normalizer<4,>=2 in /opt/anaconda3/envs/dev/lib/python3.9/site-packages (from requests<3,>=2->langchain_community) (2.0.4)\n",
            "Requirement already satisfied: regex>=2022.1.18 in /opt/anaconda3/envs/dev/lib/python3.9/site-packages (from tiktoken<1,>=0.7->langchain_openai) (2024.11.6)\n",
            "Requirement already satisfied: click>=8.0.0 in /opt/anaconda3/envs/dev/lib/python3.9/site-packages (from typer<1.0,>=0.12->gradio) (8.1.7)\n",
            "Requirement already satisfied: shellingham>=1.3.0 in /opt/anaconda3/envs/dev/lib/python3.9/site-packages (from typer<1.0,>=0.12->gradio) (1.5.0)\n",
            "Requirement already satisfied: pyproject_hooks in /opt/anaconda3/envs/dev/lib/python3.9/site-packages (from build>=1.0.3->chromadb!=0.5.10,!=0.5.11,!=0.5.12,!=0.5.4,!=0.5.5,!=0.5.7,!=0.5.9,<0.7.0,>=0.4.0->langchain_chroma) (1.2.0)\n",
            "Requirement already satisfied: importlib-metadata>=4.6 in /opt/anaconda3/envs/dev/lib/python3.9/site-packages (from build>=1.0.3->chromadb!=0.5.10,!=0.5.11,!=0.5.12,!=0.5.4,!=0.5.5,!=0.5.7,!=0.5.9,<0.7.0,>=0.4.0->langchain_chroma) (8.5.0)\n",
            "Requirement already satisfied: tomli>=1.1.0 in /opt/anaconda3/envs/dev/lib/python3.9/site-packages (from build>=1.0.3->chromadb!=0.5.10,!=0.5.11,!=0.5.12,!=0.5.4,!=0.5.5,!=0.5.7,!=0.5.9,<0.7.0,>=0.4.0->langchain_chroma) (2.2.1)\n",
            "Requirement already satisfied: jsonpointer>=1.9 in /opt/anaconda3/envs/dev/lib/python3.9/site-packages (from jsonpatch<2.0,>=1.33->langchain-core<1.0.0,>=0.3.37->langchain_community) (3.0.0)\n",
            "Requirement already satisfied: six>=1.9.0 in /opt/anaconda3/envs/dev/lib/python3.9/site-packages (from kubernetes>=28.1.0->chromadb!=0.5.10,!=0.5.11,!=0.5.12,!=0.5.4,!=0.5.5,!=0.5.7,!=0.5.9,<0.7.0,>=0.4.0->langchain_chroma) (1.17.0)\n",
            "Requirement already satisfied: google-auth>=1.0.1 in /opt/anaconda3/envs/dev/lib/python3.9/site-packages (from kubernetes>=28.1.0->chromadb!=0.5.10,!=0.5.11,!=0.5.12,!=0.5.4,!=0.5.5,!=0.5.7,!=0.5.9,<0.7.0,>=0.4.0->langchain_chroma) (2.29.0)\n",
            "Requirement already satisfied: websocket-client!=0.40.0,!=0.41.*,!=0.42.*,>=0.32.0 in /opt/anaconda3/envs/dev/lib/python3.9/site-packages (from kubernetes>=28.1.0->chromadb!=0.5.10,!=0.5.11,!=0.5.12,!=0.5.4,!=0.5.5,!=0.5.7,!=0.5.9,<0.7.0,>=0.4.0->langchain_chroma) (1.8.0)\n",
            "Requirement already satisfied: requests-oauthlib in /opt/anaconda3/envs/dev/lib/python3.9/site-packages (from kubernetes>=28.1.0->chromadb!=0.5.10,!=0.5.11,!=0.5.12,!=0.5.4,!=0.5.5,!=0.5.7,!=0.5.9,<0.7.0,>=0.4.0->langchain_chroma) (2.0.0)\n",
            "Requirement already satisfied: oauthlib>=3.2.2 in /opt/anaconda3/envs/dev/lib/python3.9/site-packages (from kubernetes>=28.1.0->chromadb!=0.5.10,!=0.5.11,!=0.5.12,!=0.5.4,!=0.5.5,!=0.5.7,!=0.5.9,<0.7.0,>=0.4.0->langchain_chroma) (3.2.2)\n",
            "Requirement already satisfied: durationpy>=0.7 in /opt/anaconda3/envs/dev/lib/python3.9/site-packages (from kubernetes>=28.1.0->chromadb!=0.5.10,!=0.5.11,!=0.5.12,!=0.5.4,!=0.5.5,!=0.5.7,!=0.5.9,<0.7.0,>=0.4.0->langchain_chroma) (0.9)\n",
            "Requirement already satisfied: coloredlogs in /opt/anaconda3/envs/dev/lib/python3.9/site-packages (from onnxruntime>=1.14.1->chromadb!=0.5.10,!=0.5.11,!=0.5.12,!=0.5.4,!=0.5.5,!=0.5.7,!=0.5.9,<0.7.0,>=0.4.0->langchain_chroma) (15.0.1)\n",
            "Requirement already satisfied: flatbuffers in /opt/anaconda3/envs/dev/lib/python3.9/site-packages (from onnxruntime>=1.14.1->chromadb!=0.5.10,!=0.5.11,!=0.5.12,!=0.5.4,!=0.5.5,!=0.5.7,!=0.5.9,<0.7.0,>=0.4.0->langchain_chroma) (24.3.25)\n",
            "Requirement already satisfied: protobuf in /opt/anaconda3/envs/dev/lib/python3.9/site-packages (from onnxruntime>=1.14.1->chromadb!=0.5.10,!=0.5.11,!=0.5.12,!=0.5.4,!=0.5.5,!=0.5.7,!=0.5.9,<0.7.0,>=0.4.0->langchain_chroma) (5.29.3)\n",
            "Requirement already satisfied: sympy in /opt/anaconda3/envs/dev/lib/python3.9/site-packages (from onnxruntime>=1.14.1->chromadb!=0.5.10,!=0.5.11,!=0.5.12,!=0.5.4,!=0.5.5,!=0.5.7,!=0.5.9,<0.7.0,>=0.4.0->langchain_chroma) (1.13.3)\n",
            "Requirement already satisfied: deprecated>=1.2.6 in /opt/anaconda3/envs/dev/lib/python3.9/site-packages (from opentelemetry-api>=1.2.0->chromadb!=0.5.10,!=0.5.11,!=0.5.12,!=0.5.4,!=0.5.5,!=0.5.7,!=0.5.9,<0.7.0,>=0.4.0->langchain_chroma) (1.2.18)\n",
            "Requirement already satisfied: googleapis-common-protos~=1.52 in /opt/anaconda3/envs/dev/lib/python3.9/site-packages (from opentelemetry-exporter-otlp-proto-grpc>=1.2.0->chromadb!=0.5.10,!=0.5.11,!=0.5.12,!=0.5.4,!=0.5.5,!=0.5.7,!=0.5.9,<0.7.0,>=0.4.0->langchain_chroma) (1.68.0)\n",
            "Requirement already satisfied: opentelemetry-exporter-otlp-proto-common==1.30.0 in /opt/anaconda3/envs/dev/lib/python3.9/site-packages (from opentelemetry-exporter-otlp-proto-grpc>=1.2.0->chromadb!=0.5.10,!=0.5.11,!=0.5.12,!=0.5.4,!=0.5.5,!=0.5.7,!=0.5.9,<0.7.0,>=0.4.0->langchain_chroma) (1.30.0)\n",
            "Requirement already satisfied: opentelemetry-proto==1.30.0 in /opt/anaconda3/envs/dev/lib/python3.9/site-packages (from opentelemetry-exporter-otlp-proto-grpc>=1.2.0->chromadb!=0.5.10,!=0.5.11,!=0.5.12,!=0.5.4,!=0.5.5,!=0.5.7,!=0.5.9,<0.7.0,>=0.4.0->langchain_chroma) (1.30.0)\n",
            "Requirement already satisfied: opentelemetry-instrumentation-asgi==0.51b0 in /opt/anaconda3/envs/dev/lib/python3.9/site-packages (from opentelemetry-instrumentation-fastapi>=0.41b0->chromadb!=0.5.10,!=0.5.11,!=0.5.12,!=0.5.4,!=0.5.5,!=0.5.7,!=0.5.9,<0.7.0,>=0.4.0->langchain_chroma) (0.51b0)\n",
            "Requirement already satisfied: opentelemetry-instrumentation==0.51b0 in /opt/anaconda3/envs/dev/lib/python3.9/site-packages (from opentelemetry-instrumentation-fastapi>=0.41b0->chromadb!=0.5.10,!=0.5.11,!=0.5.12,!=0.5.4,!=0.5.5,!=0.5.7,!=0.5.9,<0.7.0,>=0.4.0->langchain_chroma) (0.51b0)\n",
            "Requirement already satisfied: opentelemetry-semantic-conventions==0.51b0 in /opt/anaconda3/envs/dev/lib/python3.9/site-packages (from opentelemetry-instrumentation-fastapi>=0.41b0->chromadb!=0.5.10,!=0.5.11,!=0.5.12,!=0.5.4,!=0.5.5,!=0.5.7,!=0.5.9,<0.7.0,>=0.4.0->langchain_chroma) (0.51b0)\n",
            "Requirement already satisfied: opentelemetry-util-http==0.51b0 in /opt/anaconda3/envs/dev/lib/python3.9/site-packages (from opentelemetry-instrumentation-fastapi>=0.41b0->chromadb!=0.5.10,!=0.5.11,!=0.5.12,!=0.5.4,!=0.5.5,!=0.5.7,!=0.5.9,<0.7.0,>=0.4.0->langchain_chroma) (0.51b0)\n",
            "Requirement already satisfied: wrapt<2.0.0,>=1.0.0 in /opt/anaconda3/envs/dev/lib/python3.9/site-packages (from opentelemetry-instrumentation==0.51b0->opentelemetry-instrumentation-fastapi>=0.41b0->chromadb!=0.5.10,!=0.5.11,!=0.5.12,!=0.5.4,!=0.5.5,!=0.5.7,!=0.5.9,<0.7.0,>=0.4.0->langchain_chroma) (1.17.0)\n",
            "Requirement already satisfied: asgiref~=3.0 in /opt/anaconda3/envs/dev/lib/python3.9/site-packages (from opentelemetry-instrumentation-asgi==0.51b0->opentelemetry-instrumentation-fastapi>=0.41b0->chromadb!=0.5.10,!=0.5.11,!=0.5.12,!=0.5.4,!=0.5.5,!=0.5.7,!=0.5.9,<0.7.0,>=0.4.0->langchain_chroma) (3.8.1)\n",
            "Requirement already satisfied: monotonic>=1.5 in /opt/anaconda3/envs/dev/lib/python3.9/site-packages (from posthog>=2.4.0->chromadb!=0.5.10,!=0.5.11,!=0.5.12,!=0.5.4,!=0.5.5,!=0.5.7,!=0.5.9,<0.7.0,>=0.4.0->langchain_chroma) (1.6)\n",
            "Requirement already satisfied: backoff>=1.10.0 in /opt/anaconda3/envs/dev/lib/python3.9/site-packages (from posthog>=2.4.0->chromadb!=0.5.10,!=0.5.11,!=0.5.12,!=0.5.4,!=0.5.5,!=0.5.7,!=0.5.9,<0.7.0,>=0.4.0->langchain_chroma) (2.2.1)\n",
            "Requirement already satisfied: markdown-it-py>=2.2.0 in /opt/anaconda3/envs/dev/lib/python3.9/site-packages (from rich>=10.11.0->chromadb!=0.5.10,!=0.5.11,!=0.5.12,!=0.5.4,!=0.5.5,!=0.5.7,!=0.5.9,<0.7.0,>=0.4.0->langchain_chroma) (2.2.0)\n",
            "Requirement already satisfied: pygments<3.0.0,>=2.13.0 in /opt/anaconda3/envs/dev/lib/python3.9/site-packages (from rich>=10.11.0->chromadb!=0.5.10,!=0.5.11,!=0.5.12,!=0.5.4,!=0.5.5,!=0.5.7,!=0.5.9,<0.7.0,>=0.4.0->langchain_chroma) (2.19.1)\n",
            "Requirement already satisfied: mypy-extensions>=0.3.0 in /opt/anaconda3/envs/dev/lib/python3.9/site-packages (from typing-inspect<1,>=0.4.0->dataclasses-json<0.7,>=0.5.7->langchain_community) (1.0.0)\n",
            "Requirement already satisfied: httptools>=0.6.3 in /opt/anaconda3/envs/dev/lib/python3.9/site-packages (from uvicorn[standard]>=0.18.3->chromadb!=0.5.10,!=0.5.11,!=0.5.12,!=0.5.4,!=0.5.5,!=0.5.7,!=0.5.9,<0.7.0,>=0.4.0->langchain_chroma) (0.6.4)\n",
            "Requirement already satisfied: uvloop!=0.15.0,!=0.15.1,>=0.14.0 in /opt/anaconda3/envs/dev/lib/python3.9/site-packages (from uvicorn[standard]>=0.18.3->chromadb!=0.5.10,!=0.5.11,!=0.5.12,!=0.5.4,!=0.5.5,!=0.5.7,!=0.5.9,<0.7.0,>=0.4.0->langchain_chroma) (0.21.0)\n",
            "Requirement already satisfied: watchfiles>=0.13 in /opt/anaconda3/envs/dev/lib/python3.9/site-packages (from uvicorn[standard]>=0.18.3->chromadb!=0.5.10,!=0.5.11,!=0.5.12,!=0.5.4,!=0.5.5,!=0.5.7,!=0.5.9,<0.7.0,>=0.4.0->langchain_chroma) (1.0.4)\n",
            "Requirement already satisfied: cachetools<6.0,>=2.0.0 in /opt/anaconda3/envs/dev/lib/python3.9/site-packages (from google-auth>=1.0.1->kubernetes>=28.1.0->chromadb!=0.5.10,!=0.5.11,!=0.5.12,!=0.5.4,!=0.5.5,!=0.5.7,!=0.5.9,<0.7.0,>=0.4.0->langchain_chroma) (5.3.3)\n",
            "Requirement already satisfied: pyasn1-modules>=0.2.1 in /opt/anaconda3/envs/dev/lib/python3.9/site-packages (from google-auth>=1.0.1->kubernetes>=28.1.0->chromadb!=0.5.10,!=0.5.11,!=0.5.12,!=0.5.4,!=0.5.5,!=0.5.7,!=0.5.9,<0.7.0,>=0.4.0->langchain_chroma) (0.2.8)\n",
            "Requirement already satisfied: rsa<5,>=3.1.4 in /opt/anaconda3/envs/dev/lib/python3.9/site-packages (from google-auth>=1.0.1->kubernetes>=28.1.0->chromadb!=0.5.10,!=0.5.11,!=0.5.12,!=0.5.4,!=0.5.5,!=0.5.7,!=0.5.9,<0.7.0,>=0.4.0->langchain_chroma) (4.7.2)\n",
            "Requirement already satisfied: mdurl~=0.1 in /opt/anaconda3/envs/dev/lib/python3.9/site-packages (from markdown-it-py>=2.2.0->rich>=10.11.0->chromadb!=0.5.10,!=0.5.11,!=0.5.12,!=0.5.4,!=0.5.5,!=0.5.7,!=0.5.9,<0.7.0,>=0.4.0->langchain_chroma) (0.1.0)\n",
            "Requirement already satisfied: humanfriendly>=9.1 in /opt/anaconda3/envs/dev/lib/python3.9/site-packages (from coloredlogs->onnxruntime>=1.14.1->chromadb!=0.5.10,!=0.5.11,!=0.5.12,!=0.5.4,!=0.5.5,!=0.5.7,!=0.5.9,<0.7.0,>=0.4.0->langchain_chroma) (10.0)\n",
            "Requirement already satisfied: mpmath<1.4,>=1.1.0 in /opt/anaconda3/envs/dev/lib/python3.9/site-packages (from sympy->onnxruntime>=1.14.1->chromadb!=0.5.10,!=0.5.11,!=0.5.12,!=0.5.4,!=0.5.5,!=0.5.7,!=0.5.9,<0.7.0,>=0.4.0->langchain_chroma) (1.3.0)\n",
            "Requirement already satisfied: pyasn1<0.5.0,>=0.4.6 in /opt/anaconda3/envs/dev/lib/python3.9/site-packages (from pyasn1-modules>=0.2.1->google-auth>=1.0.1->kubernetes>=28.1.0->chromadb!=0.5.10,!=0.5.11,!=0.5.12,!=0.5.4,!=0.5.5,!=0.5.7,!=0.5.9,<0.7.0,>=0.4.0->langchain_chroma) (0.4.8)\n",
            "Note: you may need to restart the kernel to use updated packages.\n",
            "Requirement already satisfied: langchain_cohere in /opt/anaconda3/envs/dev/lib/python3.9/site-packages (0.4.2)\n",
            "Requirement already satisfied: cohere<6.0,>=5.12.0 in /opt/anaconda3/envs/dev/lib/python3.9/site-packages (from langchain_cohere) (5.14.0)\n",
            "Requirement already satisfied: langchain-community<0.4.0,>=0.3.0 in /opt/anaconda3/envs/dev/lib/python3.9/site-packages (from langchain_cohere) (0.3.18)\n",
            "Requirement already satisfied: langchain-core<0.4.0,>=0.3.27 in /opt/anaconda3/envs/dev/lib/python3.9/site-packages (from langchain_cohere) (0.3.39)\n",
            "Requirement already satisfied: pydantic<3,>=2 in /opt/anaconda3/envs/dev/lib/python3.9/site-packages (from langchain_cohere) (2.10.3)\n",
            "Requirement already satisfied: types-pyyaml<7.0.0.0,>=6.0.12.20240917 in /opt/anaconda3/envs/dev/lib/python3.9/site-packages (from langchain_cohere) (6.0.12.20241230)\n",
            "Requirement already satisfied: fastavro<2.0.0,>=1.9.4 in /opt/anaconda3/envs/dev/lib/python3.9/site-packages (from cohere<6.0,>=5.12.0->langchain_cohere) (1.10.0)\n",
            "Requirement already satisfied: httpx>=0.21.2 in /opt/anaconda3/envs/dev/lib/python3.9/site-packages (from cohere<6.0,>=5.12.0->langchain_cohere) (0.28.1)\n",
            "Requirement already satisfied: httpx-sse==0.4.0 in /opt/anaconda3/envs/dev/lib/python3.9/site-packages (from cohere<6.0,>=5.12.0->langchain_cohere) (0.4.0)\n",
            "Requirement already satisfied: pydantic-core<3.0.0,>=2.18.2 in /opt/anaconda3/envs/dev/lib/python3.9/site-packages (from cohere<6.0,>=5.12.0->langchain_cohere) (2.27.1)\n",
            "Requirement already satisfied: requests<3.0.0,>=2.0.0 in /opt/anaconda3/envs/dev/lib/python3.9/site-packages (from cohere<6.0,>=5.12.0->langchain_cohere) (2.32.3)\n",
            "Requirement already satisfied: tokenizers<1,>=0.15 in /opt/anaconda3/envs/dev/lib/python3.9/site-packages (from cohere<6.0,>=5.12.0->langchain_cohere) (0.20.1)\n",
            "Requirement already satisfied: types-requests<3.0.0,>=2.0.0 in /opt/anaconda3/envs/dev/lib/python3.9/site-packages (from cohere<6.0,>=5.12.0->langchain_cohere) (2.32.0.20250301)\n",
            "Requirement already satisfied: typing_extensions>=4.0.0 in /opt/anaconda3/envs/dev/lib/python3.9/site-packages (from cohere<6.0,>=5.12.0->langchain_cohere) (4.12.2)\n",
            "Requirement already satisfied: langchain<1.0.0,>=0.3.19 in /opt/anaconda3/envs/dev/lib/python3.9/site-packages (from langchain-community<0.4.0,>=0.3.0->langchain_cohere) (0.3.19)\n",
            "Requirement already satisfied: SQLAlchemy<3,>=1.4 in /opt/anaconda3/envs/dev/lib/python3.9/site-packages (from langchain-community<0.4.0,>=0.3.0->langchain_cohere) (2.0.38)\n",
            "Requirement already satisfied: PyYAML>=5.3 in /opt/anaconda3/envs/dev/lib/python3.9/site-packages (from langchain-community<0.4.0,>=0.3.0->langchain_cohere) (6.0.2)\n",
            "Requirement already satisfied: aiohttp<4.0.0,>=3.8.3 in /opt/anaconda3/envs/dev/lib/python3.9/site-packages (from langchain-community<0.4.0,>=0.3.0->langchain_cohere) (3.11.10)\n",
            "Requirement already satisfied: tenacity!=8.4.0,<10,>=8.1.0 in /opt/anaconda3/envs/dev/lib/python3.9/site-packages (from langchain-community<0.4.0,>=0.3.0->langchain_cohere) (9.0.0)\n",
            "Requirement already satisfied: dataclasses-json<0.7,>=0.5.7 in /opt/anaconda3/envs/dev/lib/python3.9/site-packages (from langchain-community<0.4.0,>=0.3.0->langchain_cohere) (0.6.7)\n",
            "Requirement already satisfied: pydantic-settings<3.0.0,>=2.4.0 in /opt/anaconda3/envs/dev/lib/python3.9/site-packages (from langchain-community<0.4.0,>=0.3.0->langchain_cohere) (2.8.0)\n",
            "Requirement already satisfied: langsmith<0.4,>=0.1.125 in /opt/anaconda3/envs/dev/lib/python3.9/site-packages (from langchain-community<0.4.0,>=0.3.0->langchain_cohere) (0.3.10)\n",
            "Requirement already satisfied: numpy<2,>=1.26.4 in /opt/anaconda3/envs/dev/lib/python3.9/site-packages (from langchain-community<0.4.0,>=0.3.0->langchain_cohere) (1.26.4)\n",
            "Requirement already satisfied: jsonpatch<2.0,>=1.33 in /opt/anaconda3/envs/dev/lib/python3.9/site-packages (from langchain-core<0.4.0,>=0.3.27->langchain_cohere) (1.33)\n",
            "Requirement already satisfied: packaging<25,>=23.2 in /opt/anaconda3/envs/dev/lib/python3.9/site-packages (from langchain-core<0.4.0,>=0.3.27->langchain_cohere) (24.2)\n",
            "Requirement already satisfied: annotated-types>=0.6.0 in /opt/anaconda3/envs/dev/lib/python3.9/site-packages (from pydantic<3,>=2->langchain_cohere) (0.6.0)\n",
            "Requirement already satisfied: aiohappyeyeballs>=2.3.0 in /opt/anaconda3/envs/dev/lib/python3.9/site-packages (from aiohttp<4.0.0,>=3.8.3->langchain-community<0.4.0,>=0.3.0->langchain_cohere) (2.4.4)\n",
            "Requirement already satisfied: aiosignal>=1.1.2 in /opt/anaconda3/envs/dev/lib/python3.9/site-packages (from aiohttp<4.0.0,>=3.8.3->langchain-community<0.4.0,>=0.3.0->langchain_cohere) (1.2.0)\n",
            "Requirement already satisfied: attrs>=17.3.0 in /opt/anaconda3/envs/dev/lib/python3.9/site-packages (from aiohttp<4.0.0,>=3.8.3->langchain-community<0.4.0,>=0.3.0->langchain_cohere) (24.3.0)\n",
            "Requirement already satisfied: frozenlist>=1.1.1 in /opt/anaconda3/envs/dev/lib/python3.9/site-packages (from aiohttp<4.0.0,>=3.8.3->langchain-community<0.4.0,>=0.3.0->langchain_cohere) (1.5.0)\n",
            "Requirement already satisfied: multidict<7.0,>=4.5 in /opt/anaconda3/envs/dev/lib/python3.9/site-packages (from aiohttp<4.0.0,>=3.8.3->langchain-community<0.4.0,>=0.3.0->langchain_cohere) (6.1.0)\n",
            "Requirement already satisfied: propcache>=0.2.0 in /opt/anaconda3/envs/dev/lib/python3.9/site-packages (from aiohttp<4.0.0,>=3.8.3->langchain-community<0.4.0,>=0.3.0->langchain_cohere) (0.2.0)\n",
            "Requirement already satisfied: yarl<2.0,>=1.17.0 in /opt/anaconda3/envs/dev/lib/python3.9/site-packages (from aiohttp<4.0.0,>=3.8.3->langchain-community<0.4.0,>=0.3.0->langchain_cohere) (1.18.0)\n",
            "Requirement already satisfied: async-timeout<6.0,>=4.0 in /opt/anaconda3/envs/dev/lib/python3.9/site-packages (from aiohttp<4.0.0,>=3.8.3->langchain-community<0.4.0,>=0.3.0->langchain_cohere) (4.0.3)\n",
            "Requirement already satisfied: marshmallow<4.0.0,>=3.18.0 in /opt/anaconda3/envs/dev/lib/python3.9/site-packages (from dataclasses-json<0.7,>=0.5.7->langchain-community<0.4.0,>=0.3.0->langchain_cohere) (3.26.1)\n",
            "Requirement already satisfied: typing-inspect<1,>=0.4.0 in /opt/anaconda3/envs/dev/lib/python3.9/site-packages (from dataclasses-json<0.7,>=0.5.7->langchain-community<0.4.0,>=0.3.0->langchain_cohere) (0.9.0)\n",
            "Requirement already satisfied: anyio in /opt/anaconda3/envs/dev/lib/python3.9/site-packages (from httpx>=0.21.2->cohere<6.0,>=5.12.0->langchain_cohere) (4.8.0)\n",
            "Requirement already satisfied: certifi in /opt/anaconda3/envs/dev/lib/python3.9/site-packages (from httpx>=0.21.2->cohere<6.0,>=5.12.0->langchain_cohere) (2025.1.31)\n",
            "Requirement already satisfied: httpcore==1.* in /opt/anaconda3/envs/dev/lib/python3.9/site-packages (from httpx>=0.21.2->cohere<6.0,>=5.12.0->langchain_cohere) (1.0.7)\n",
            "Requirement already satisfied: idna in /opt/anaconda3/envs/dev/lib/python3.9/site-packages (from httpx>=0.21.2->cohere<6.0,>=5.12.0->langchain_cohere) (3.7)\n",
            "Requirement already satisfied: h11<0.15,>=0.13 in /opt/anaconda3/envs/dev/lib/python3.9/site-packages (from httpcore==1.*->httpx>=0.21.2->cohere<6.0,>=5.12.0->langchain_cohere) (0.14.0)\n",
            "Requirement already satisfied: jsonpointer>=1.9 in /opt/anaconda3/envs/dev/lib/python3.9/site-packages (from jsonpatch<2.0,>=1.33->langchain-core<0.4.0,>=0.3.27->langchain_cohere) (3.0.0)\n",
            "Requirement already satisfied: langchain-text-splitters<1.0.0,>=0.3.6 in /opt/anaconda3/envs/dev/lib/python3.9/site-packages (from langchain<1.0.0,>=0.3.19->langchain-community<0.4.0,>=0.3.0->langchain_cohere) (0.3.6)\n",
            "Requirement already satisfied: orjson<4.0.0,>=3.9.14 in /opt/anaconda3/envs/dev/lib/python3.9/site-packages (from langsmith<0.4,>=0.1.125->langchain-community<0.4.0,>=0.3.0->langchain_cohere) (3.10.15)\n",
            "Requirement already satisfied: requests-toolbelt<2.0.0,>=1.0.0 in /opt/anaconda3/envs/dev/lib/python3.9/site-packages (from langsmith<0.4,>=0.1.125->langchain-community<0.4.0,>=0.3.0->langchain_cohere) (1.0.0)\n",
            "Requirement already satisfied: zstandard<0.24.0,>=0.23.0 in /opt/anaconda3/envs/dev/lib/python3.9/site-packages (from langsmith<0.4,>=0.1.125->langchain-community<0.4.0,>=0.3.0->langchain_cohere) (0.23.0)\n",
            "Requirement already satisfied: python-dotenv>=0.21.0 in /opt/anaconda3/envs/dev/lib/python3.9/site-packages (from pydantic-settings<3.0.0,>=2.4.0->langchain-community<0.4.0,>=0.3.0->langchain_cohere) (0.21.0)\n",
            "Requirement already satisfied: charset-normalizer<4,>=2 in /opt/anaconda3/envs/dev/lib/python3.9/site-packages (from requests<3.0.0,>=2.0.0->cohere<6.0,>=5.12.0->langchain_cohere) (2.0.4)\n",
            "Requirement already satisfied: urllib3<3,>=1.21.1 in /opt/anaconda3/envs/dev/lib/python3.9/site-packages (from requests<3.0.0,>=2.0.0->cohere<6.0,>=5.12.0->langchain_cohere) (2.3.0)\n",
            "Requirement already satisfied: huggingface-hub<1.0,>=0.16.4 in /opt/anaconda3/envs/dev/lib/python3.9/site-packages (from tokenizers<1,>=0.15->cohere<6.0,>=5.12.0->langchain_cohere) (0.28.0)\n",
            "Requirement already satisfied: filelock in /opt/anaconda3/envs/dev/lib/python3.9/site-packages (from huggingface-hub<1.0,>=0.16.4->tokenizers<1,>=0.15->cohere<6.0,>=5.12.0->langchain_cohere) (3.13.1)\n",
            "Requirement already satisfied: fsspec>=2023.5.0 in /opt/anaconda3/envs/dev/lib/python3.9/site-packages (from huggingface-hub<1.0,>=0.16.4->tokenizers<1,>=0.15->cohere<6.0,>=5.12.0->langchain_cohere) (2024.12.0)\n",
            "Requirement already satisfied: tqdm>=4.42.1 in /opt/anaconda3/envs/dev/lib/python3.9/site-packages (from huggingface-hub<1.0,>=0.16.4->tokenizers<1,>=0.15->cohere<6.0,>=5.12.0->langchain_cohere) (4.66.5)\n",
            "Requirement already satisfied: mypy-extensions>=0.3.0 in /opt/anaconda3/envs/dev/lib/python3.9/site-packages (from typing-inspect<1,>=0.4.0->dataclasses-json<0.7,>=0.5.7->langchain-community<0.4.0,>=0.3.0->langchain_cohere) (1.0.0)\n",
            "Requirement already satisfied: exceptiongroup>=1.0.2 in /opt/anaconda3/envs/dev/lib/python3.9/site-packages (from anyio->httpx>=0.21.2->cohere<6.0,>=5.12.0->langchain_cohere) (1.2.2)\n",
            "Requirement already satisfied: sniffio>=1.1 in /opt/anaconda3/envs/dev/lib/python3.9/site-packages (from anyio->httpx>=0.21.2->cohere<6.0,>=5.12.0->langchain_cohere) (1.3.1)\n",
            "Note: you may need to restart the kernel to use updated packages.\n"
          ]
        }
      ],
      "source": [
        "%pip install langchain_community langchain_text_splitters langchain_openai langchain_chroma gradio python-dotenv\n",
        "%pip install langchain_cohere"
      ]
    },
    {
      "cell_type": "code",
      "execution_count": 2,
      "metadata": {
        "colab": {
          "base_uri": "https://localhost:8080/"
        },
        "id": "dJE4OzG01XNB",
        "outputId": "4d4b2b54-db9f-472d-8ce6-5c739635ab43"
      },
      "outputs": [],
      "source": [
        "# from google.colab import drive\n",
        "\n",
        "# # Mount Google Drive\n",
        "# drive.mount('/content/drive')\n",
        "\n",
        "# # Define the Google Drive path where your documents are stored\n",
        "# google_drive_path = '/content/drive/MyDrive/local_rag/data'"
      ]
    },
    {
      "cell_type": "code",
      "execution_count": 3,
      "metadata": {},
      "outputs": [
        {
          "data": {
            "text/plain": [
              "True"
            ]
          },
          "execution_count": 3,
          "metadata": {},
          "output_type": "execute_result"
        }
      ],
      "source": [
        "DATA_PATH = r\"data\"\n",
        "CHROMA_PATH = r\"chroma_db\"\n",
        "import os\n",
        "\n",
        "# import the .env file\n",
        "from dotenv import load_dotenv\n",
        "load_dotenv()\n",
        "# print(os.environ.get(\"COHERE_API_KEY\")) "
      ]
    },
    {
      "cell_type": "code",
      "execution_count": 4,
      "metadata": {
        "id": "lX1fyZRVDM1d"
      },
      "outputs": [
        {
          "name": "stderr",
          "output_type": "stream",
          "text": [
            "/opt/anaconda3/envs/dev/lib/python3.9/site-packages/tqdm/auto.py:21: TqdmWarning: IProgress not found. Please update jupyter and ipywidgets. See https://ipywidgets.readthedocs.io/en/stable/user_install.html\n",
            "  from .autonotebook import tqdm as notebook_tqdm\n",
            "/var/folders/5p/y9vfdxz132b7tj62wggjh0_m0000gn/T/ipykernel_14612/697090197.py:6: LangChainDeprecationWarning: The class `HuggingFaceEmbeddings` was deprecated in LangChain 0.2.2 and will be removed in 1.0. An updated version of the class exists in the :class:`~langchain-huggingface package and should be used instead. To use it run `pip install -U :class:`~langchain-huggingface` and import as `from :class:`~langchain_huggingface import HuggingFaceEmbeddings``.\n",
            "  embeddings_model = SentenceTransformerEmbeddings(model_name=\"all-mpnet-base-v2\")\n"
          ]
        }
      ],
      "source": [
        "from langchain_chroma import Chroma\n",
        "import gradio as gr\n",
        "from langchain.embeddings import SentenceTransformerEmbeddings\n",
        "\n",
        "# Load the embedding model\n",
        "embeddings_model = SentenceTransformerEmbeddings(model_name=\"all-mpnet-base-v2\")\n",
        "\n",
        "# Use the model with LangChain as before\n",
        "vector_store = Chroma(\n",
        "    collection_name=\"example_collection\",\n",
        "    embedding_function=embeddings_model,\n",
        "    persist_directory=CHROMA_PATH,\n",
        ")\n",
        "\n"
      ]
    },
    {
      "cell_type": "code",
      "execution_count": 5,
      "metadata": {
        "colab": {
          "base_uri": "https://localhost:8080/"
        },
        "id": "jCcxOMtIFylR",
        "outputId": "79da4ec7-53cd-46bf-af4d-1ebd2b5115eb"
      },
      "outputs": [
        {
          "name": "stdout",
          "output_type": "stream",
          "text": [
            "[Document(id='da3f4b17-50e8-4d95-8c41-16bd7408895e', metadata={'author': '', 'creationdate': '2024-04-10T21:11:43+00:00', 'creator': 'LaTeX with hyperref', 'keywords': '', 'moddate': '2024-04-10T21:11:43+00:00', 'page': 2, 'page_label': '3', 'producer': 'pdfTeX-1.40.25', 'ptex.fullbanner': 'This is pdfTeX, Version 3.141592653-2.6-1.40.25 (TeX Live 2023) kpathsea version 6.3.5', 'source': 'data/AttentionIsAllyouNeed.pdf', 'subject': '', 'title': '', 'total_pages': 15, 'trapped': '/False'}, page_content='3.2 Attention\\nAn attention function can be described as mapping a query and a set of key-value pairs to an output,\\nwhere the query, keys, values, and output are all vectors. The output is computed as a weighted sum\\n3'), Document(id='ccf4f6a3-7992-4f70-bbe7-5a81fb9ac92f', metadata={'author': '', 'creationdate': '2024-04-10T21:11:43+00:00', 'creator': 'LaTeX with hyperref', 'keywords': '', 'moddate': '2024-04-10T21:11:43+00:00', 'page': 6, 'page_label': '7', 'producer': 'pdfTeX-1.40.25', 'ptex.fullbanner': 'This is pdfTeX, Version 3.141592653-2.6-1.40.25 (TeX Live 2023) kpathsea version 6.3.5', 'source': 'data/AttentionIsAllyouNeed.pdf', 'subject': '', 'title': '', 'total_pages': 15, 'trapped': '/False'}, page_content='the approach we take in our model.\\nAs side benefit, self-attention could yield more interpretable models. We inspect attention distributions\\nfrom our models and present and discuss examples in the appendix. Not only do individual attention'), Document(id='e6f8dd8d-24b1-4c4c-9bd1-c879b6f715cf', metadata={'author': '', 'creationdate': '2024-04-10T21:11:43+00:00', 'creator': 'LaTeX with hyperref', 'keywords': '', 'moddate': '2024-04-10T21:11:43+00:00', 'page': 9, 'page_label': '10', 'producer': 'pdfTeX-1.40.25', 'ptex.fullbanner': 'This is pdfTeX, Version 3.141592653-2.6-1.40.25 (TeX Live 2023) kpathsea version 6.3.5', 'source': 'data/AttentionIsAllyouNeed.pdf', 'subject': '', 'title': '', 'total_pages': 15, 'trapped': '/False'}, page_content='We are excited about the future of attention-based models and plan to apply them to other tasks. We\\nplan to extend the Transformer to problems involving input and output modalities other than text and'), Document(id='5e2498b1-eb81-4c31-92a2-e288d032e3eb', metadata={'author': '', 'creationdate': '2024-04-10T21:11:43+00:00', 'creator': 'LaTeX with hyperref', 'keywords': '', 'moddate': '2024-04-10T21:11:43+00:00', 'page': 13, 'page_label': '14', 'producer': 'pdfTeX-1.40.25', 'ptex.fullbanner': 'This is pdfTeX, Version 3.141592653-2.6-1.40.25 (TeX Live 2023) kpathsea version 6.3.5', 'source': 'data/AttentionIsAllyouNeed.pdf', 'subject': '', 'title': '', 'total_pages': 15, 'trapped': '/False'}, page_content='Full attentions for head 5. Bottom: Isolated attentions from just the word ‘its’ for attention heads 5\\nand 6. Note that the attentions are very sharp for this word.\\n14'), Document(id='e6d8752d-249c-46e5-92a9-86435c66427f', metadata={'author': '', 'creationdate': '2024-04-10T21:11:43+00:00', 'creator': 'LaTeX with hyperref', 'keywords': '', 'moddate': '2024-04-10T21:11:43+00:00', 'page': 1, 'page_label': '2', 'producer': 'pdfTeX-1.40.25', 'ptex.fullbanner': 'This is pdfTeX, Version 3.141592653-2.6-1.40.25 (TeX Live 2023) kpathsea version 6.3.5', 'source': 'data/AttentionIsAllyouNeed.pdf', 'subject': '', 'title': '', 'total_pages': 15, 'trapped': '/False'}, page_content='described in section 3.2.\\nSelf-attention, sometimes called intra-attention is an attention mechanism relating different positions\\nof a single sequence in order to compute a representation of the sequence. Self-attention has been')]\n",
            "[Document(id='f4b7df79-ca18-4c20-88fd-86cda6ad8c45', metadata={'creationdate': '', 'creator': 'Google', 'page': 15, 'page_label': '16', 'producer': 'PyPDF', 'source': 'data/AI Bootcamp Syllabus 2024-1.pdf', 'title': 'AI Bootcamp Syllabus 2024', 'total_pages': 18}, page_content='important to be mindful of the needs of your peers and support teams and be courteous in how you \\ncommunicate. This is especially true in online communication spaces such as email or Slack, where it’s \\neasy to misinterpret comments. Consider the following communication guidelines:'), Document(id='01cdb180-bfa6-4b1e-ba94-caa2de3e3341', metadata={'creationdate': '', 'creator': 'Google', 'page': 7, 'page_label': '8', 'producer': 'PyPDF', 'source': 'data/AI Bootcamp Syllabus 2024-1.pdf', 'title': 'AI Bootcamp Syllabus 2024', 'total_pages': 18}, page_content='Management System. This is your main hub for all course curriculum and assignments.\\nSlack\\nSlack, the popular business collaboration tool, is our core learning community space. On Slack, \\nyou will communicate with peers and instructional staff to celebrate victories and troubleshoot'), Document(id='a8f932f1-2a0e-445f-a0ff-6d8aee96b1f9', metadata={'creationdate': '', 'creator': 'Google', 'page': 15, 'page_label': '16', 'producer': 'PyPDF', 'source': 'data/AI Bootcamp Syllabus 2024-1.pdf', 'title': 'AI Bootcamp Syllabus 2024', 'total_pages': 18}, page_content='easy to misinterpret comments. Consider the following communication guidelines:\\nUse encouraging, supportive tones when interacting with peers.\\nTry to help peers who are stuck on a topic.\\nTake opportunities to thank your support team for their help.'), Document(id='e3c2a7b4-c443-473c-a5d1-cf7a4d5c3a84', metadata={'creationdate': '', 'creator': 'Google', 'page': 15, 'page_label': '16', 'producer': 'PyPDF', 'source': 'data/AI Bootcamp Syllabus 2024-1.pdf', 'title': 'AI Bootcamp Syllabus 2024', 'total_pages': 18}, page_content='Communication Guidelines\\nAt times, a bootcamp can be stressful as you ﬁght to crack the code of emerging skills. Therefore, it’s \\nimportant to be mindful of the needs of your peers and support teams and be courteous in how you'), Document(id='c0a37737-f36c-4d33-8e55-13febfbea24f', metadata={'creationdate': '', 'creator': 'Google', 'page': 16, 'page_label': '17', 'producer': 'PyPDF', 'source': 'data/AI Bootcamp Syllabus 2024-1.pdf', 'title': 'AI Bootcamp Syllabus 2024', 'total_pages': 18}, page_content='get more information. \\n● Career Engagement Network (CEN): Upon enrollment, you gain access to the Career Engagement Network \\n– which includes asynchronous learning resources, online career events, and a curated job board.')]\n"
          ]
        }
      ],
      "source": [
        "num_results = 5\n",
        "\n",
        "retriever = vector_store.as_retriever(search_kwargs={'k': num_results})\n",
        "\n",
        "docs = retriever.invoke(\"What is attention\")\n",
        "print(docs)\n",
        "\n",
        "docs = retriever.invoke(\"What is communication\")\n",
        "print(docs)"
      ]
    },
    {
      "cell_type": "code",
      "execution_count": 6,
      "metadata": {
        "colab": {
          "base_uri": "https://localhost:8080/"
        },
        "id": "QOw2D_uRDdW4",
        "outputId": "4e556c35-8e26-4ee7-a33a-5106337c48c9"
      },
      "outputs": [
        {
          "name": "stdout",
          "output_type": "stream",
          "text": [
            "[Document(id='da3f4b17-50e8-4d95-8c41-16bd7408895e', metadata={'author': '', 'creationdate': '2024-04-10T21:11:43+00:00', 'creator': 'LaTeX with hyperref', 'keywords': '', 'moddate': '2024-04-10T21:11:43+00:00', 'page': 2, 'page_label': '3', 'producer': 'pdfTeX-1.40.25', 'ptex.fullbanner': 'This is pdfTeX, Version 3.141592653-2.6-1.40.25 (TeX Live 2023) kpathsea version 6.3.5', 'source': 'data/AttentionIsAllyouNeed.pdf', 'subject': '', 'title': '', 'total_pages': 15, 'trapped': '/False'}, page_content='3.2 Attention\\nAn attention function can be described as mapping a query and a set of key-value pairs to an output,\\nwhere the query, keys, values, and output are all vectors. The output is computed as a weighted sum\\n3'), Document(id='ccf4f6a3-7992-4f70-bbe7-5a81fb9ac92f', metadata={'author': '', 'creationdate': '2024-04-10T21:11:43+00:00', 'creator': 'LaTeX with hyperref', 'keywords': '', 'moddate': '2024-04-10T21:11:43+00:00', 'page': 6, 'page_label': '7', 'producer': 'pdfTeX-1.40.25', 'ptex.fullbanner': 'This is pdfTeX, Version 3.141592653-2.6-1.40.25 (TeX Live 2023) kpathsea version 6.3.5', 'source': 'data/AttentionIsAllyouNeed.pdf', 'subject': '', 'title': '', 'total_pages': 15, 'trapped': '/False'}, page_content='the approach we take in our model.\\nAs side benefit, self-attention could yield more interpretable models. We inspect attention distributions\\nfrom our models and present and discuss examples in the appendix. Not only do individual attention'), Document(id='e6f8dd8d-24b1-4c4c-9bd1-c879b6f715cf', metadata={'author': '', 'creationdate': '2024-04-10T21:11:43+00:00', 'creator': 'LaTeX with hyperref', 'keywords': '', 'moddate': '2024-04-10T21:11:43+00:00', 'page': 9, 'page_label': '10', 'producer': 'pdfTeX-1.40.25', 'ptex.fullbanner': 'This is pdfTeX, Version 3.141592653-2.6-1.40.25 (TeX Live 2023) kpathsea version 6.3.5', 'source': 'data/AttentionIsAllyouNeed.pdf', 'subject': '', 'title': '', 'total_pages': 15, 'trapped': '/False'}, page_content='We are excited about the future of attention-based models and plan to apply them to other tasks. We\\nplan to extend the Transformer to problems involving input and output modalities other than text and'), Document(id='5e2498b1-eb81-4c31-92a2-e288d032e3eb', metadata={'author': '', 'creationdate': '2024-04-10T21:11:43+00:00', 'creator': 'LaTeX with hyperref', 'keywords': '', 'moddate': '2024-04-10T21:11:43+00:00', 'page': 13, 'page_label': '14', 'producer': 'pdfTeX-1.40.25', 'ptex.fullbanner': 'This is pdfTeX, Version 3.141592653-2.6-1.40.25 (TeX Live 2023) kpathsea version 6.3.5', 'source': 'data/AttentionIsAllyouNeed.pdf', 'subject': '', 'title': '', 'total_pages': 15, 'trapped': '/False'}, page_content='Full attentions for head 5. Bottom: Isolated attentions from just the word ‘its’ for attention heads 5\\nand 6. Note that the attentions are very sharp for this word.\\n14'), Document(id='e6d8752d-249c-46e5-92a9-86435c66427f', metadata={'author': '', 'creationdate': '2024-04-10T21:11:43+00:00', 'creator': 'LaTeX with hyperref', 'keywords': '', 'moddate': '2024-04-10T21:11:43+00:00', 'page': 1, 'page_label': '2', 'producer': 'pdfTeX-1.40.25', 'ptex.fullbanner': 'This is pdfTeX, Version 3.141592653-2.6-1.40.25 (TeX Live 2023) kpathsea version 6.3.5', 'source': 'data/AttentionIsAllyouNeed.pdf', 'subject': '', 'title': '', 'total_pages': 15, 'trapped': '/False'}, page_content='described in section 3.2.\\nSelf-attention, sometimes called intra-attention is an attention mechanism relating different positions\\nof a single sequence in order to compute a representation of the sequence. Self-attention has been')]\n",
            "3.2 Attention\n",
            "An attention function can be described as mapping a query and a set of key-value pairs to an output,\n",
            "where the query, keys, values, and output are all vectors. The output is computed as a weighted sum\n",
            "3\n",
            "the approach we take in our model.\n",
            "As side benefit, self-attention could yield more interpretable models. We inspect attention distributions\n",
            "from our models and present and discuss examples in the appendix. Not only do individual attention\n",
            "We are excited about the future of attention-based models and plan to apply them to other tasks. We\n",
            "plan to extend the Transformer to problems involving input and output modalities other than text and\n",
            "Full attentions for head 5. Bottom: Isolated attentions from just the word ‘its’ for attention heads 5\n",
            "and 6. Note that the attentions are very sharp for this word.\n",
            "14\n",
            "described in section 3.2.\n",
            "Self-attention, sometimes called intra-attention is an attention mechanism relating different positions\n",
            "of a single sequence in order to compute a representation of the sequence. Self-attention has been\n",
            "[{'source': 'data/AttentionIsAllyouNeed.pdf', 'page_label': '3'}, {'source': 'data/AttentionIsAllyouNeed.pdf', 'page_label': '7'}, {'source': 'data/AttentionIsAllyouNeed.pdf', 'page_label': '10'}, {'source': 'data/AttentionIsAllyouNeed.pdf', 'page_label': '14'}, {'source': 'data/AttentionIsAllyouNeed.pdf', 'page_label': '2'}]\n"
          ]
        }
      ],
      "source": [
        "docs = retriever.invoke(\"What is attention\")\n",
        "print(docs)\n",
        "knowledge = \"\"\n",
        "sources = []\n",
        "for doc in docs:\n",
        "    knowledge += doc.page_content+\"\\n\\n\"\n",
        "    print(doc.page_content)\n",
        "\n",
        "for doc in docs:\n",
        "    sources.append({\"source\":doc.metadata[\"source\"], \"page_label\":doc.metadata[\"page_label\"]})\n",
        "\n",
        "print(sources)"
      ]
    },
    {
      "cell_type": "code",
      "execution_count": null,
      "metadata": {},
      "outputs": [
        {
          "name": "stderr",
          "output_type": "stream",
          "text": [
            "/var/folders/5p/y9vfdxz132b7tj62wggjh0_m0000gn/T/ipykernel_14612/1962010177.py:7: LangChainDeprecationWarning: The class `ChatCohere` was deprecated in LangChain 0.0.30 and will be removed in 1.0. An updated version of the class exists in the :class:`~langchain-cohere package and should be used instead. To use it run `pip install -U :class:`~langchain-cohere` and import as `from :class:`~langchain_cohere import ChatCohere``.\n",
            "  llm = ChatCohere(model=\"command-r-plus-08-2024\")\n",
            "/var/folders/5p/y9vfdxz132b7tj62wggjh0_m0000gn/T/ipykernel_14612/1962010177.py:13: LangChainDeprecationWarning: The class `Chroma` was deprecated in LangChain 0.2.9 and will be removed in 1.0. An updated version of the class exists in the :class:`~langchain-chroma package and should be used instead. To use it run `pip install -U :class:`~langchain-chroma` and import as `from :class:`~langchain_chroma import Chroma``.\n",
            "  vector_store = Chroma(\n"
          ]
        }
      ],
      "source": [
        "from langchain.chat_models import ChatCohere\n",
        "from langchain.schema import AIMessage, HumanMessage, SystemMessage\n",
        "from langchain.vectorstores import Chroma\n",
        "from langchain.embeddings import SentenceTransformerEmbeddings\n",
        "\n",
        "# Initialize Cohere LLM\n",
        "llm = ChatCohere(model=\"command-r-plus-08-2024\")\n",
        "\n",
        "# Load the embedding model\n",
        "embeddings_model = SentenceTransformerEmbeddings(model_name=\"all-mpnet-base-v2\")\n",
        "\n",
        "# Initialize Vector Store\n",
        "vector_store = Chroma(\n",
        "    collection_name=\"example_collection\",\n",
        "    embedding_function=embeddings_model,\n",
        "    persist_directory=CHROMA_PATH,\n",
        ")\n",
        "\n",
        "# Set up retriever\n",
        "num_results = 5\n",
        "retriever = vector_store.as_retriever(search_kwargs={'k': num_results})\n"
      ]
    },
    {
      "cell_type": "code",
      "execution_count": null,
      "metadata": {},
      "outputs": [],
      "source": [
        "\n",
        "def stream_response(message, history, skipSources=False):\n",
        "    \"\"\"Handles chatbot conversation in Gradio.\"\"\"\n",
        "    partial_message = \"\"\n",
        "    # Convert Gradio history to LangChain format\n",
        "    chat_history = [SystemMessage(content=\"You are a helpful assistant. Answer based on the provided knowledge.\")]\n",
        "    for user_msg, bot_msg in history:\n",
        "        chat_history.append(HumanMessage(content=user_msg))\n",
        "        chat_history.append(AIMessage(content=bot_msg))\n",
        "\n",
        "    # Retrieve relevant documents\n",
        "    docs = retriever.invoke(message)\n",
        "\n",
        "    # Format retrieved knowledge\n",
        "    knowledge = \"\\n\\n\".join([doc.page_content for doc in docs])\n",
        "    sources = \"\\n\".join([f\"Document: {doc.metadata['source']}, Page: {doc.metadata.get('page_label', 'N/A')}\" for doc in docs])\n",
        "\n",
        "    # Construct the prompt\n",
        "    rag_prompt = f\"\"\"\n",
        "    You are an assistant that answers questions based solely on the provided knowledge.\n",
        "    If the knowledge does not contain the answer, say you don't know.\n",
        "    \n",
        "    The knowledge:\n",
        "    {knowledge}\n",
        "    \"\"\"\n",
        "\n",
        "    # Append user query\n",
        "    chat_history.append(HumanMessage(content=message))\n",
        "    chat_history.append(AIMessage(content=rag_prompt))\n",
        "\n",
        "\n",
        "    last_chunk = None  # Track last chunk\n",
        "    for response in llm.stream(chat_history):\n",
        "        partial_message += response.content\n",
        "        last_chunk = response.content  # Keep track of the final chunk\n",
        "        yield partial_message  # Send intermediate responses\n",
        "\n",
        "    # Append sources only to the last streamed chunk\n",
        "    if last_chunk:\n",
        "        uncertainty_phrases = [\"I don't know\", \"I'm not sure if I can answer that\", \"I'm sorry\"]\n",
        "        if not skipSources and not any(phrase.lower() in partial_message.lower() for phrase in uncertainty_phrases):\n",
        "            final_response = partial_message + \"\\n\\nSources:\\n\" + sources \n",
        "        else:\n",
        "            final_response = partial_message \n",
        "        yield final_response \n",
        "        \n"
      ]
    },
    {
      "cell_type": "code",
      "execution_count": 12,
      "metadata": {},
      "outputs": [
        {
          "ename": "UnboundLocalError",
          "evalue": "local variable 'final_response' referenced before assignment",
          "output_type": "error",
          "traceback": [
            "\u001b[0;31m---------------------------------------------------------------------------\u001b[0m",
            "\u001b[0;31mUnboundLocalError\u001b[0m                         Traceback (most recent call last)",
            "Cell \u001b[0;32mIn[12], line 19\u001b[0m\n\u001b[1;32m     17\u001b[0m response_generator \u001b[38;5;241m=\u001b[39m stream_response(test_case[\u001b[38;5;124m\"\u001b[39m\u001b[38;5;124mquery\u001b[39m\u001b[38;5;124m\"\u001b[39m], [], \u001b[38;5;28;01mTrue\u001b[39;00m)\n\u001b[1;32m     18\u001b[0m generated_response \u001b[38;5;241m=\u001b[39m \u001b[38;5;124m\"\u001b[39m\u001b[38;5;124m\"\u001b[39m\n\u001b[0;32m---> 19\u001b[0m \u001b[38;5;28;01mfor\u001b[39;00m partial_response \u001b[38;5;129;01min\u001b[39;00m response_generator:\n\u001b[1;32m     20\u001b[0m     generated_response \u001b[38;5;241m=\u001b[39m partial_response  \u001b[38;5;66;03m# Get the final response\u001b[39;00m\n\u001b[1;32m     21\u001b[0m test_case[\u001b[38;5;124m\"\u001b[39m\u001b[38;5;124mgenerated\u001b[39m\u001b[38;5;124m\"\u001b[39m] \u001b[38;5;241m=\u001b[39m generated_response\n",
            "Cell \u001b[0;32mIn[11], line 45\u001b[0m, in \u001b[0;36mstream_response\u001b[0;34m(message, history, skipSources)\u001b[0m\n\u001b[1;32m     43\u001b[0m \u001b[38;5;28;01melse\u001b[39;00m:\n\u001b[1;32m     44\u001b[0m     final_response \u001b[38;5;241m=\u001b[39m partial_message \n\u001b[0;32m---> 45\u001b[0m \u001b[38;5;28;01myield\u001b[39;00m \u001b[43mfinal_response\u001b[49m\n",
            "\u001b[0;31mUnboundLocalError\u001b[0m: local variable 'final_response' referenced before assignment"
          ]
        }
      ],
      "source": [
        "import json\n",
        "\n",
        "# Define the test cases\n",
        "test_cases = [\n",
        "    {\n",
        "        \"query\": \"What is attention?\",\n",
        "        \"expected\": \"The capital of France is Paris.\"\n",
        "    },\n",
        "    {\n",
        "        \"query\": \"What all is taught in AI Course?\",\n",
        "        \"expected\": \"William Shakespeare wrote Hamlet.\"\n",
        "    }\n",
        "]\n",
        "\n",
        "# Generate responses for each test case\n",
        "for test_case in test_cases:\n",
        "    response_generator = stream_response(test_case[\"query\"], [], True)\n",
        "    generated_response = \"\"\n",
        "    for partial_response in response_generator:\n",
        "        generated_response = partial_response  # Get the final response\n",
        "    test_case[\"generated\"] = generated_response\n",
        "\n",
        "# Save the test cases to a JSON file\n",
        "with open(\"test_cases.json\", \"w\") as file:\n",
        "    json.dump(test_cases, file, indent=4)\n",
        "\n",
        "# Print the test cases\n",
        "print(json.dumps(test_cases, indent=4))"
      ]
    },
    {
      "cell_type": "code",
      "execution_count": null,
      "metadata": {},
      "outputs": [],
      "source": []
    },
    {
      "cell_type": "code",
      "execution_count": 8,
      "metadata": {
        "colab": {
          "base_uri": "https://localhost:8080/"
        },
        "id": "tWfMPmSg4Ga6",
        "outputId": "d6304d9f-cff8-4063-9d75-91c03c3a026f"
      },
      "outputs": [],
      "source": [
        "# response_generator = stream_response(\"What is attention\", \"First Message\")  # Empty history for the first call\n",
        "\n",
        "# print (response_generator)\n",
        "\n",
        "\n",
        "# for partial_response in response_generator:\n",
        "#        print(partial_response)  # Or do something else with partial_response"
      ]
    },
    {
      "cell_type": "code",
      "execution_count": 9,
      "metadata": {
        "id": "QRUpa-m04F-F"
      },
      "outputs": [
        {
          "name": "stdout",
          "output_type": "stream",
          "text": [
            "Running on local URL:  http://127.0.0.1:7860\n"
          ]
        },
        {
          "name": "stderr",
          "output_type": "stream",
          "text": [
            "huggingface/tokenizers: The current process just got forked, after parallelism has already been used. Disabling parallelism to avoid deadlocks...\n",
            "To disable this warning, you can either:\n",
            "\t- Avoid using `tokenizers` before the fork if possible\n",
            "\t- Explicitly set the environment variable TOKENIZERS_PARALLELISM=(true | false)\n"
          ]
        },
        {
          "name": "stdout",
          "output_type": "stream",
          "text": [
            "Running on public URL: https://f03907ada9761fdfcb.gradio.live\n",
            "\n",
            "This share link expires in 72 hours. For free permanent hosting and GPU upgrades, run `gradio deploy` from Terminal to deploy to Spaces (https://huggingface.co/spaces)\n"
          ]
        },
        {
          "data": {
            "text/html": [
              "<div><iframe src=\"https://f03907ada9761fdfcb.gradio.live\" width=\"100%\" height=\"500\" allow=\"autoplay; camera; microphone; clipboard-read; clipboard-write;\" frameborder=\"0\" allowfullscreen></iframe></div>"
            ],
            "text/plain": [
              "<IPython.core.display.HTML object>"
            ]
          },
          "metadata": {},
          "output_type": "display_data"
        },
        {
          "data": {
            "text/plain": []
          },
          "execution_count": 9,
          "metadata": {},
          "output_type": "execute_result"
        }
      ],
      "source": [
        "# initiate the Gradio app\n",
        "import gradio as gr\n",
        "\n",
        "chatbot = gr.ChatInterface(stream_response, textbox=gr.Textbox(placeholder=\"Send to the LLM...\",\n",
        "    container=False,\n",
        "    autoscroll=True,\n",
        "    scale=7),\n",
        ")\n",
        "chatbot.launch(share=True)\n"
      ]
    }
  ],
  "metadata": {
    "colab": {
      "provenance": []
    },
    "kernelspec": {
      "display_name": "dev",
      "language": "python",
      "name": "python3"
    },
    "language_info": {
      "codemirror_mode": {
        "name": "ipython",
        "version": 3
      },
      "file_extension": ".py",
      "mimetype": "text/x-python",
      "name": "python",
      "nbconvert_exporter": "python",
      "pygments_lexer": "ipython3",
      "version": "3.9.15"
    }
  },
  "nbformat": 4,
  "nbformat_minor": 0
}
